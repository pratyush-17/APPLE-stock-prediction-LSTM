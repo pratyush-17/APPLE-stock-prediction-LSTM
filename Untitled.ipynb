{
 "cells": [
  {
   "cell_type": "code",
   "execution_count": 20,
   "id": "216e64b8",
   "metadata": {},
   "outputs": [],
   "source": [
    "import pandas_datareader as pdr\n",
    "import pandas as pd\n",
    "import numpy as np\n",
    "import matplotlib.pyplot as plt"
   ]
  },
  {
   "cell_type": "code",
   "execution_count": 6,
   "id": "de9f448d",
   "metadata": {},
   "outputs": [
    {
     "name": "stderr",
     "output_type": "stream",
     "text": [
      "C:\\Users\\praty\\anaconda3\\lib\\site-packages\\pandas_datareader\\tiingo.py:234: FutureWarning: In a future version of pandas all arguments of concat except for the argument 'objs' will be keyword-only\n",
      "  return pd.concat(dfs, self._concat_axis)\n"
     ]
    }
   ],
   "source": [
    "df = pdr.get_data_tiingo('AAPL', api_key='59998dc5f09a48f151a7007362a98a1027fb85a5')"
   ]
  },
  {
   "cell_type": "code",
   "execution_count": 7,
   "id": "87533d75",
   "metadata": {},
   "outputs": [],
   "source": [
    "df.to_csv('APPL1.csv')"
   ]
  },
  {
   "cell_type": "code",
   "execution_count": 9,
   "id": "49093b93",
   "metadata": {},
   "outputs": [],
   "source": [
    "df=pd.read_csv('APPL1.csv')"
   ]
  },
  {
   "cell_type": "code",
   "execution_count": 12,
   "id": "5a14e18a",
   "metadata": {},
   "outputs": [
    {
     "data": {
      "text/html": [
       "<div>\n",
       "<style scoped>\n",
       "    .dataframe tbody tr th:only-of-type {\n",
       "        vertical-align: middle;\n",
       "    }\n",
       "\n",
       "    .dataframe tbody tr th {\n",
       "        vertical-align: top;\n",
       "    }\n",
       "\n",
       "    .dataframe thead th {\n",
       "        text-align: right;\n",
       "    }\n",
       "</style>\n",
       "<table border=\"1\" class=\"dataframe\">\n",
       "  <thead>\n",
       "    <tr style=\"text-align: right;\">\n",
       "      <th></th>\n",
       "      <th>symbol</th>\n",
       "      <th>date</th>\n",
       "      <th>close</th>\n",
       "      <th>high</th>\n",
       "      <th>low</th>\n",
       "      <th>open</th>\n",
       "      <th>volume</th>\n",
       "      <th>adjClose</th>\n",
       "      <th>adjHigh</th>\n",
       "      <th>adjLow</th>\n",
       "      <th>adjOpen</th>\n",
       "      <th>adjVolume</th>\n",
       "      <th>divCash</th>\n",
       "      <th>splitFactor</th>\n",
       "    </tr>\n",
       "  </thead>\n",
       "  <tbody>\n",
       "    <tr>\n",
       "      <th>1253</th>\n",
       "      <td>AAPL</td>\n",
       "      <td>2022-03-09 00:00:00+00:00</td>\n",
       "      <td>162.95</td>\n",
       "      <td>163.41</td>\n",
       "      <td>159.41</td>\n",
       "      <td>161.475</td>\n",
       "      <td>91454905</td>\n",
       "      <td>162.95</td>\n",
       "      <td>163.41</td>\n",
       "      <td>159.41</td>\n",
       "      <td>161.475</td>\n",
       "      <td>91454905</td>\n",
       "      <td>0.0</td>\n",
       "      <td>1.0</td>\n",
       "    </tr>\n",
       "    <tr>\n",
       "      <th>1254</th>\n",
       "      <td>AAPL</td>\n",
       "      <td>2022-03-10 00:00:00+00:00</td>\n",
       "      <td>158.52</td>\n",
       "      <td>160.39</td>\n",
       "      <td>155.98</td>\n",
       "      <td>160.200</td>\n",
       "      <td>105342033</td>\n",
       "      <td>158.52</td>\n",
       "      <td>160.39</td>\n",
       "      <td>155.98</td>\n",
       "      <td>160.200</td>\n",
       "      <td>105342033</td>\n",
       "      <td>0.0</td>\n",
       "      <td>1.0</td>\n",
       "    </tr>\n",
       "    <tr>\n",
       "      <th>1255</th>\n",
       "      <td>AAPL</td>\n",
       "      <td>2022-03-11 00:00:00+00:00</td>\n",
       "      <td>154.73</td>\n",
       "      <td>159.28</td>\n",
       "      <td>154.50</td>\n",
       "      <td>158.930</td>\n",
       "      <td>96970102</td>\n",
       "      <td>154.73</td>\n",
       "      <td>159.28</td>\n",
       "      <td>154.50</td>\n",
       "      <td>158.930</td>\n",
       "      <td>96970102</td>\n",
       "      <td>0.0</td>\n",
       "      <td>1.0</td>\n",
       "    </tr>\n",
       "    <tr>\n",
       "      <th>1256</th>\n",
       "      <td>AAPL</td>\n",
       "      <td>2022-03-14 00:00:00+00:00</td>\n",
       "      <td>150.62</td>\n",
       "      <td>154.12</td>\n",
       "      <td>150.10</td>\n",
       "      <td>151.450</td>\n",
       "      <td>108732111</td>\n",
       "      <td>150.62</td>\n",
       "      <td>154.12</td>\n",
       "      <td>150.10</td>\n",
       "      <td>151.450</td>\n",
       "      <td>108732111</td>\n",
       "      <td>0.0</td>\n",
       "      <td>1.0</td>\n",
       "    </tr>\n",
       "    <tr>\n",
       "      <th>1257</th>\n",
       "      <td>AAPL</td>\n",
       "      <td>2022-03-15 00:00:00+00:00</td>\n",
       "      <td>155.09</td>\n",
       "      <td>155.57</td>\n",
       "      <td>150.38</td>\n",
       "      <td>150.900</td>\n",
       "      <td>91851992</td>\n",
       "      <td>155.09</td>\n",
       "      <td>155.57</td>\n",
       "      <td>150.38</td>\n",
       "      <td>150.900</td>\n",
       "      <td>91851992</td>\n",
       "      <td>0.0</td>\n",
       "      <td>1.0</td>\n",
       "    </tr>\n",
       "  </tbody>\n",
       "</table>\n",
       "</div>"
      ],
      "text/plain": [
       "     symbol                       date   close    high     low     open  \\\n",
       "1253   AAPL  2022-03-09 00:00:00+00:00  162.95  163.41  159.41  161.475   \n",
       "1254   AAPL  2022-03-10 00:00:00+00:00  158.52  160.39  155.98  160.200   \n",
       "1255   AAPL  2022-03-11 00:00:00+00:00  154.73  159.28  154.50  158.930   \n",
       "1256   AAPL  2022-03-14 00:00:00+00:00  150.62  154.12  150.10  151.450   \n",
       "1257   AAPL  2022-03-15 00:00:00+00:00  155.09  155.57  150.38  150.900   \n",
       "\n",
       "         volume  adjClose  adjHigh  adjLow  adjOpen  adjVolume  divCash  \\\n",
       "1253   91454905    162.95   163.41  159.41  161.475   91454905      0.0   \n",
       "1254  105342033    158.52   160.39  155.98  160.200  105342033      0.0   \n",
       "1255   96970102    154.73   159.28  154.50  158.930   96970102      0.0   \n",
       "1256  108732111    150.62   154.12  150.10  151.450  108732111      0.0   \n",
       "1257   91851992    155.09   155.57  150.38  150.900   91851992      0.0   \n",
       "\n",
       "      splitFactor  \n",
       "1253          1.0  \n",
       "1254          1.0  \n",
       "1255          1.0  \n",
       "1256          1.0  \n",
       "1257          1.0  "
      ]
     },
     "execution_count": 12,
     "metadata": {},
     "output_type": "execute_result"
    }
   ],
   "source": [
    "df.tail()"
   ]
  },
  {
   "cell_type": "code",
   "execution_count": 14,
   "id": "9a5bbc06",
   "metadata": {},
   "outputs": [],
   "source": [
    "df1=df.reset_index()['close']"
   ]
  },
  {
   "cell_type": "code",
   "execution_count": 21,
   "id": "faa54304",
   "metadata": {},
   "outputs": [
    {
     "data": {
      "text/plain": [
       "[<matplotlib.lines.Line2D at 0x1fa554b0e20>]"
      ]
     },
     "execution_count": 21,
     "metadata": {},
     "output_type": "execute_result"
    },
    {
     "data": {
      "image/png": "[encoded data removed]",
      "text/plain": [
       "<Figure size 432x288 with 1 Axes>"
      ]
     },
     "metadata": {
      "needs_background": "light"
     },
     "output_type": "display_data"
    }
   ],
   "source": [
    "plt.plot(df1)"
   ]
  },
  {
   "cell_type": "code",
   "execution_count": 22,
   "id": "7c8fbba7",
   "metadata": {},
   "outputs": [],
   "source": [
    "from sklearn.preprocessing import MinMaxScaler\n",
    "scaler = MinMaxScaler(feature_range=(0,1))\n",
    "df1=scaler.fit_transform(np.array(df1).reshape(-1,1))"
   ]
  },
  {
   "cell_type": "code",
   "execution_count": 57,
   "id": "7fed8a3a",
   "metadata": {},
   "outputs": [],
   "source": [
    "training_size=int(len(df1)*0.65)\n",
    "test_size=len(df1)-training_size\n",
    "train_data,test_data=df1[0:training_size,:],df1[training_size:len(df1),:1]"
   ]
  },
  {
   "cell_type": "code",
   "execution_count": 58,
   "id": "8af02c84",
   "metadata": {},
   "outputs": [
    {
     "data": {
      "text/plain": [
       "(817, 441)"
      ]
     },
     "execution_count": 58,
     "metadata": {},
     "output_type": "execute_result"
    }
   ],
   "source": [
    "training_size,test_size"
   ]
  },
  {
   "cell_type": "code",
   "execution_count": 59,
   "id": "b3980403",
   "metadata": {},
   "outputs": [],
   "source": [
    "def create_dataset(dataset, time_step=1):\n",
    "\tdataX, dataY = [], []\n",
    "\tfor i in range(len(dataset)-time_step-1):\n",
    "\t\ta = dataset[i:(i+time_step), 0]   ###i=0, 0,1,2,3-----99   100 \n",
    "\t\tdataX.append(a)\n",
    "\t\tdataY.append(dataset[i + time_step, 0])\n",
    "\treturn np.array(dataX), np.array(dataY)"
   ]
  },
  {
   "cell_type": "code",
   "execution_count": 60,
   "id": "7339862c",
   "metadata": {},
   "outputs": [],
   "source": [
    "time_step = 100\n",
    "X_train, y_train = create_dataset(train_data, time_step)\n",
    "X_test, ytest = create_dataset(test_data, time_step)"
   ]
  },
  {
   "cell_type": "code",
   "execution_count": 61,
   "id": "da99a187",
   "metadata": {},
   "outputs": [
    {
     "name": "stdout",
     "output_type": "stream",
     "text": [
      "(716, 100)\n",
      "(716,)\n"
     ]
    },
    {
     "data": {
      "text/plain": [
       "(None, None)"
      ]
     },
     "execution_count": 61,
     "metadata": {},
     "output_type": "execute_result"
    }
   ],
   "source": [
    "print(X_train.shape), print(y_train.shape)\n",
    "\n"
   ]
  },
  {
   "cell_type": "code",
   "execution_count": 62,
   "id": "981dd244",
   "metadata": {},
   "outputs": [],
   "source": [
    "X_train =X_train.reshape(X_train.shape[0],X_train.shape[1] , 1)\n",
    "X_test = X_test.reshape(X_test.shape[0],X_test.shape[1] , 1)"
   ]
  },
  {
   "cell_type": "code",
   "execution_count": 63,
   "id": "cd1e9fea",
   "metadata": {},
   "outputs": [],
   "source": [
    "from tensorflow.keras.models import Sequential\n",
    "from tensorflow.keras.layers import Dense\n",
    "from tensorflow.keras.layers import LSTM"
   ]
  },
  {
   "cell_type": "code",
   "execution_count": 64,
   "id": "e062d9f4",
   "metadata": {},
   "outputs": [],
   "source": [
    "model=Sequential()\n",
    "model.add(LSTM(50,return_sequences=True,input_shape=(100,1)))\n",
    "model.add(LSTM(50,return_sequences=True))\n",
    "model.add(LSTM(50))\n",
    "model.add(Dense(1))\n",
    "model.compile(loss='mean_squared_error',optimizer='adam')"
   ]
  },
  {
   "cell_type": "code",
   "execution_count": 65,
   "id": "ce465cab",
   "metadata": {},
   "outputs": [
    {
     "name": "stdout",
     "output_type": "stream",
     "text": [
      "Model: \"sequential_1\"\n",
      "_________________________________________________________________\n",
      "Layer (type)                 Output Shape              Param #   \n",
      "=================================================================\n",
      "lstm_3 (LSTM)                (None, 100, 50)           10400     \n",
      "_________________________________________________________________\n",
      "lstm_4 (LSTM)                (None, 100, 50)           20200     \n",
      "_________________________________________________________________\n",
      "lstm_5 (LSTM)                (None, 50)                20200     \n",
      "_________________________________________________________________\n",
      "dense_1 (Dense)              (None, 1)                 51        \n",
      "=================================================================\n",
      "Total params: 50,851\n",
      "Trainable params: 50,851\n",
      "Non-trainable params: 0\n",
      "_________________________________________________________________\n"
     ]
    }
   ],
   "source": [
    "model.summary()"
   ]
  },
  {
   "cell_type": "code",
   "execution_count": null,
   "id": "367e434d",
   "metadata": {},
   "outputs": [
    {
     "name": "stdout",
     "output_type": "stream",
     "text": [
      "Epoch 1/100\n",
      "12/12 [==============================] - 6s 187ms/step - loss: 0.0199 - val_loss: 0.0017\n",
      "Epoch 2/100\n",
      "12/12 [==============================] - 2s 127ms/step - loss: 0.0045 - val_loss: 0.0061\n",
      "Epoch 3/100\n",
      "12/12 [==============================] - 1s 124ms/step - loss: 0.0021 - val_loss: 8.9876e-04\n",
      "Epoch 4/100\n",
      "12/12 [==============================] - 1s 124ms/step - loss: 0.0013 - val_loss: 2.4281e-04\n",
      "Epoch 5/100\n",
      "12/12 [==============================] - 2s 127ms/step - loss: 0.0011 - val_loss: 2.4716e-04\n",
      "Epoch 6/100\n",
      "12/12 [==============================] - 2s 126ms/step - loss: 9.6630e-04 - val_loss: 2.5276e-04\n",
      "Epoch 7/100\n",
      "12/12 [==============================] - 1s 118ms/step - loss: 9.1023e-04 - val_loss: 2.6596e-04\n",
      "Epoch 8/100\n",
      "12/12 [==============================] - 1s 121ms/step - loss: 8.7765e-04 - val_loss: 2.6410e-04\n",
      "Epoch 9/100\n",
      "12/12 [==============================] - 1s 118ms/step - loss: 8.4041e-04 - val_loss: 2.5793e-04\n",
      "Epoch 10/100\n",
      "12/12 [==============================] - 1s 120ms/step - loss: 7.5214e-04 - val_loss: 2.9585e-04\n",
      "Epoch 11/100\n",
      "12/12 [==============================] - 1s 123ms/step - loss: 8.0435e-04 - val_loss: 2.3837e-04\n",
      "Epoch 12/100\n",
      "12/12 [==============================] - 2s 160ms/step - loss: 6.5122e-04 - val_loss: 1.9287e-04\n",
      "Epoch 13/100\n",
      "12/12 [==============================] - 2s 194ms/step - loss: 6.4417e-04 - val_loss: 2.1940e-04\n",
      "Epoch 14/100\n",
      "12/12 [==============================] - 2s 174ms/step - loss: 6.6816e-04 - val_loss: 2.0702e-04\n",
      "Epoch 15/100\n",
      "12/12 [==============================] - 2s 168ms/step - loss: 6.1334e-04 - val_loss: 1.9330e-04\n",
      "Epoch 16/100\n",
      "12/12 [==============================] - 2s 188ms/step - loss: 6.4622e-04 - val_loss: 1.9392e-04\n",
      "Epoch 17/100\n",
      "12/12 [==============================] - 2s 168ms/step - loss: 5.2920e-04 - val_loss: 1.8997e-04\n",
      "Epoch 18/100\n",
      "12/12 [==============================] - 2s 151ms/step - loss: 5.5358e-04 - val_loss: 1.9132e-04\n",
      "Epoch 19/100\n",
      "12/12 [==============================] - 2s 152ms/step - loss: 5.0913e-04 - val_loss: 1.8590e-04\n",
      "Epoch 20/100\n",
      "12/12 [==============================] - 2s 183ms/step - loss: 4.8188e-04 - val_loss: 2.0721e-04\n",
      "Epoch 21/100\n",
      "12/12 [==============================] - 2s 180ms/step - loss: 4.8258e-04 - val_loss: 1.9194e-04\n",
      "Epoch 22/100\n",
      "12/12 [==============================] - 2s 148ms/step - loss: 4.7862e-04 - val_loss: 1.9116e-04\n",
      "Epoch 23/100\n",
      "12/12 [==============================] - 2s 153ms/step - loss: 4.7797e-04 - val_loss: 2.0979e-04\n",
      "Epoch 24/100\n",
      "12/12 [==============================] - 2s 148ms/step - loss: 5.1215e-04 - val_loss: 1.7909e-04\n",
      "Epoch 25/100\n",
      "12/12 [==============================] - 2s 150ms/step - loss: 4.4612e-04 - val_loss: 1.6860e-04\n",
      "Epoch 26/100\n",
      "12/12 [==============================] - 2s 148ms/step - loss: 4.4001e-04 - val_loss: 1.6884e-04\n",
      "Epoch 27/100\n",
      "12/12 [==============================] - 2s 147ms/step - loss: 4.8356e-04 - val_loss: 2.3096e-04\n",
      "Epoch 28/100\n",
      "12/12 [==============================] - 2s 154ms/step - loss: 6.8573e-04 - val_loss: 1.6668e-04\n",
      "Epoch 29/100\n",
      "12/12 [==============================] - 2s 170ms/step - loss: 5.5486e-04 - val_loss: 1.7995e-04\n",
      "Epoch 30/100\n",
      "12/12 [==============================] - 2s 150ms/step - loss: 4.4156e-04 - val_loss: 1.6124e-04\n",
      "Epoch 31/100\n",
      "12/12 [==============================] - 2s 154ms/step - loss: 4.2649e-04 - val_loss: 1.7206e-04\n",
      "Epoch 32/100\n",
      "12/12 [==============================] - 2s 157ms/step - loss: 4.7045e-04 - val_loss: 1.8654e-04\n",
      "Epoch 33/100\n",
      "12/12 [==============================] - 2s 157ms/step - loss: 4.6664e-04 - val_loss: 2.2465e-04\n",
      "Epoch 34/100\n",
      "12/12 [==============================] - 2s 193ms/step - loss: 4.3765e-04 - val_loss: 1.5608e-04\n",
      "Epoch 35/100\n",
      "12/12 [==============================] - 2s 159ms/step - loss: 4.1229e-04 - val_loss: 2.3479e-04\n",
      "Epoch 36/100\n",
      "12/12 [==============================] - 2s 154ms/step - loss: 4.5782e-04 - val_loss: 1.6327e-04\n",
      "Epoch 37/100\n",
      "12/12 [==============================] - 2s 160ms/step - loss: 4.2698e-04 - val_loss: 1.6037e-04\n",
      "Epoch 38/100\n",
      "12/12 [==============================] - 2s 183ms/step - loss: 4.1203e-04 - val_loss: 1.5887e-04\n",
      "Epoch 39/100\n",
      "12/12 [==============================] - 2s 150ms/step - loss: 4.0717e-04 - val_loss: 1.5219e-04\n",
      "Epoch 40/100\n",
      "12/12 [==============================] - 2s 154ms/step - loss: 4.2340e-04 - val_loss: 1.5393e-04\n",
      "Epoch 41/100\n",
      "12/12 [==============================] - 2s 155ms/step - loss: 3.9895e-04 - val_loss: 1.5892e-04\n",
      "Epoch 42/100\n",
      "12/12 [==============================] - 2s 160ms/step - loss: 3.9934e-04 - val_loss: 1.7063e-04\n",
      "Epoch 43/100\n",
      "12/12 [==============================] - 2s 155ms/step - loss: 3.9920e-04 - val_loss: 1.4928e-04\n",
      "Epoch 44/100\n",
      "12/12 [==============================] - 2s 180ms/step - loss: 4.4755e-04 - val_loss: 1.5196e-04\n",
      "Epoch 45/100\n",
      "12/12 [==============================] - ETA: 0s - loss: 3.9757e-04"
     ]
    }
   ],
   "source": [
    "model.fit(X_train,y_train,validation_data=(X_test,ytest),epochs=100,batch_size=64,verbose=1)"
   ]
  },
  {
   "cell_type": "code",
   "execution_count": null,
   "id": "4f474bc4",
   "metadata": {},
   "outputs": [],
   "source": [
    "import tensorflow as tf"
   ]
  },
  {
   "cell_type": "code",
   "execution_count": 38,
   "id": "7cab09f8",
   "metadata": {},
   "outputs": [],
   "source": [
    "train_predict=model.predict(X_train)\n",
    "test_predict=model.predict(X_test)"
   ]
  },
  {
   "cell_type": "code",
   "execution_count": 39,
   "id": "fc624fd2",
   "metadata": {},
   "outputs": [],
   "source": [
    "train_predict=scaler.inverse_transform(train_predict)\n",
    "test_predict=scaler.inverse_transform(test_predict)"
   ]
  },
  {
   "cell_type": "code",
   "execution_count": 40,
   "id": "389531ec",
   "metadata": {},
   "outputs": [
    {
     "data": {
      "text/plain": [
       "226.20688692500963"
      ]
     },
     "execution_count": 40,
     "metadata": {},
     "output_type": "execute_result"
    }
   ],
   "source": [
    "import math\n",
    "from sklearn.metrics import mean_squared_error\n",
    "math.sqrt(mean_squared_error(y_train,train_predict))"
   ]
  },
  {
   "cell_type": "code",
   "execution_count": 41,
   "id": "e4c31178",
   "metadata": {},
   "outputs": [
    {
     "data": {
      "text/plain": [
       "149.57668360506884"
      ]
     },
     "execution_count": 41,
     "metadata": {},
     "output_type": "execute_result"
    }
   ],
   "source": [
    "math.sqrt(mean_squared_error(ytest,test_predict))"
   ]
  },
  {
   "cell_type": "code",
   "execution_count": 43,
   "id": "868ec5de",
   "metadata": {},
   "outputs": [
    {
     "data": {
      "image/png": "[encoded data removed]",
      "text/plain": [
       "<Figure size 432x288 with 1 Axes>"
      ]
     },
     "metadata": {
      "needs_background": "light"
     },
     "output_type": "display_data"
    }
   ],
   "source": [
    "look_back=100\n",
    "trainPredictPlot = np.empty_like(df1)\n",
    "trainPredictPlot[:, :] = np.nan\n",
    "trainPredictPlot[look_back:len(train_predict)+look_back, :] = train_predict\n",
    "# shift test predictions for plotting\n",
    "testPredictPlot = np.empty_like(df1)\n",
    "testPredictPlot[:, :] = np.nan\n",
    "testPredictPlot[len(train_predict)+(look_back*2)+1:len(df1)-1, :] = test_predict\n",
    "# plot baseline and predictions\n",
    "plt.plot(scaler.inverse_transform(df1))\n",
    "plt.plot(trainPredictPlot)\n",
    "plt.plot(testPredictPlot)\n",
    "plt.show()"
   ]
  },
  {
   "cell_type": "code",
   "execution_count": 44,
   "id": "81060404",
   "metadata": {},
   "outputs": [
    {
     "data": {
      "text/plain": [
       "378"
      ]
     },
     "execution_count": 44,
     "metadata": {},
     "output_type": "execute_result"
    }
   ],
   "source": [
    "len(test_data)"
   ]
  },
  {
   "cell_type": "code",
   "execution_count": 45,
   "id": "ba65a2c0",
   "metadata": {},
   "outputs": [
    {
     "data": {
      "text/plain": [
       "(1, 37)"
      ]
     },
     "execution_count": 45,
     "metadata": {},
     "output_type": "execute_result"
    }
   ],
   "source": [
    "x_input=test_data[341:].reshape(1,-1)\n",
    "x_input.shape"
   ]
  },
  {
   "cell_type": "code",
   "execution_count": 46,
   "id": "3cfd4de4",
   "metadata": {},
   "outputs": [],
   "source": [
    "temp_input=list(x_input)\n",
    "temp_input=temp_input[0].tolist()"
   ]
  },
  {
   "cell_type": "code",
   "execution_count": 56,
   "id": "6706a36f",
   "metadata": {},
   "outputs": [
    {
     "ename": "ValueError",
     "evalue": "cannot reshape array of size 37 into shape (3,100,1)",
     "output_type": "error",
     "traceback": [
      "\u001b[1;31m---------------------------------------------------------------------------\u001b[0m",
      "\u001b[1;31mValueError\u001b[0m                                Traceback (most recent call last)",
      "\u001b[1;32m~\\AppData\\Local\\Temp/ipykernel_6224/1629630966.py\u001b[0m in \u001b[0;36m<module>\u001b[1;34m\u001b[0m\n\u001b[0;32m     21\u001b[0m         \u001b[0mi\u001b[0m\u001b[1;33m=\u001b[0m\u001b[0mi\u001b[0m\u001b[1;33m+\u001b[0m\u001b[1;36m1\u001b[0m\u001b[1;33m\u001b[0m\u001b[1;33m\u001b[0m\u001b[0m\n\u001b[0;32m     22\u001b[0m     \u001b[1;32melse\u001b[0m\u001b[1;33m:\u001b[0m\u001b[1;33m\u001b[0m\u001b[1;33m\u001b[0m\u001b[0m\n\u001b[1;32m---> 23\u001b[1;33m         \u001b[0mx_input\u001b[0m \u001b[1;33m=\u001b[0m \u001b[0mx_input\u001b[0m\u001b[1;33m.\u001b[0m\u001b[0mreshape\u001b[0m\u001b[1;33m(\u001b[0m\u001b[1;33m(\u001b[0m\u001b[1;36m3\u001b[0m\u001b[1;33m,\u001b[0m \u001b[0mn_steps\u001b[0m\u001b[1;33m,\u001b[0m\u001b[1;36m1\u001b[0m\u001b[1;33m)\u001b[0m\u001b[1;33m)\u001b[0m\u001b[1;33m\u001b[0m\u001b[1;33m\u001b[0m\u001b[0m\n\u001b[0m\u001b[0;32m     24\u001b[0m         \u001b[0myhat\u001b[0m \u001b[1;33m=\u001b[0m \u001b[0mmodel\u001b[0m\u001b[1;33m.\u001b[0m\u001b[0mpredict\u001b[0m\u001b[1;33m(\u001b[0m\u001b[0mx_input\u001b[0m\u001b[1;33m,\u001b[0m \u001b[0mverbose\u001b[0m\u001b[1;33m=\u001b[0m\u001b[1;36m0\u001b[0m\u001b[1;33m)\u001b[0m\u001b[1;33m\u001b[0m\u001b[1;33m\u001b[0m\u001b[0m\n\u001b[0;32m     25\u001b[0m         \u001b[0mprint\u001b[0m\u001b[1;33m(\u001b[0m\u001b[0myhat\u001b[0m\u001b[1;33m[\u001b[0m\u001b[1;36m0\u001b[0m\u001b[1;33m]\u001b[0m\u001b[1;33m)\u001b[0m\u001b[1;33m\u001b[0m\u001b[1;33m\u001b[0m\u001b[0m\n",
      "\u001b[1;31mValueError\u001b[0m: cannot reshape array of size 37 into shape (3,100,1)"
     ]
    }
   ],
   "source": [
    "from numpy import array\n",
    "\n",
    "lst_output=[]\n",
    "n_steps=100\n",
    "i=0\n",
    "while(i<30):\n",
    "    \n",
    "    if(len(temp_input)>100):\n",
    "        #print(temp_input)\n",
    "        x_input=np.array(temp_input[1:])\n",
    "        print(\"{} day input {}\".format(i,x_input))\n",
    "        x_input=x_input.reshape(1,-1)\n",
    "        x_input = x_input.reshape((1, n_steps, 1))\n",
    "        #print(x_input)\n",
    "        yhat = model.predict(x_input, verbose=0)\n",
    "        print(\"{} day output {}\".format(i,yhat))\n",
    "        temp_input.extend(yhat[0].tolist())\n",
    "        temp_input=temp_input[1:]\n",
    "        #print(temp_input)\n",
    "        lst_output.extend(yhat.tolist())\n",
    "        i=i+1\n",
    "    else:\n",
    "        x_input = x_input.reshape((1, n_steps,1))\n",
    "        yhat = model.predict(x_input, verbose=0)\n",
    "        print(yhat[0])\n",
    "        temp_input.extend(yhat[0].tolist())\n",
    "        print(len(temp_input))\n",
    "        lst_output.extend(yhat.tolist())\n",
    "        i=i+1\n",
    "    \n",
    "\n",
    "print(lst_output)"
   ]
  },
  {
   "cell_type": "code",
   "execution_count": 48,
   "id": "4b0c558f",
   "metadata": {},
   "outputs": [
    {
     "ename": "NameError",
     "evalue": "name 'day_new' is not defined",
     "output_type": "error",
     "traceback": [
      "\u001b[1;31m---------------------------------------------------------------------------\u001b[0m",
      "\u001b[1;31mNameError\u001b[0m                                 Traceback (most recent call last)",
      "\u001b[1;32m~\\AppData\\Local\\Temp/ipykernel_6224/4015665374.py\u001b[0m in \u001b[0;36m<module>\u001b[1;34m\u001b[0m\n\u001b[1;32m----> 1\u001b[1;33m \u001b[0mplt\u001b[0m\u001b[1;33m.\u001b[0m\u001b[0mplot\u001b[0m\u001b[1;33m(\u001b[0m\u001b[0mday_new\u001b[0m\u001b[1;33m,\u001b[0m\u001b[0mscaler\u001b[0m\u001b[1;33m.\u001b[0m\u001b[0minverse_transform\u001b[0m\u001b[1;33m(\u001b[0m\u001b[0mdf1\u001b[0m\u001b[1;33m[\u001b[0m\u001b[1;36m1158\u001b[0m\u001b[1;33m:\u001b[0m\u001b[1;33m]\u001b[0m\u001b[1;33m)\u001b[0m\u001b[1;33m)\u001b[0m\u001b[1;33m\u001b[0m\u001b[1;33m\u001b[0m\u001b[0m\n\u001b[0m\u001b[0;32m      2\u001b[0m \u001b[0mplt\u001b[0m\u001b[1;33m.\u001b[0m\u001b[0mplot\u001b[0m\u001b[1;33m(\u001b[0m\u001b[0mday_pred\u001b[0m\u001b[1;33m,\u001b[0m\u001b[0mscaler\u001b[0m\u001b[1;33m.\u001b[0m\u001b[0minverse_transform\u001b[0m\u001b[1;33m(\u001b[0m\u001b[0mlst_output\u001b[0m\u001b[1;33m)\u001b[0m\u001b[1;33m)\u001b[0m\u001b[1;33m\u001b[0m\u001b[1;33m\u001b[0m\u001b[0m\n",
      "\u001b[1;31mNameError\u001b[0m: name 'day_new' is not defined"
     ]
    }
   ],
   "source": [
    "plt.plot(day_new,scaler.inverse_transform(df1[1158:]))\n",
    "plt.plot(day_pred,scaler.inverse_transform(lst_output))"
   ]
  },
  {
   "cell_type": "code",
   "execution_count": null,
   "id": "a22f2dc1",
   "metadata": {},
   "outputs": [],
   "source": [
    "df3=df1.tolist()\n",
    "df3.extend(lst_output)\n",
    "plt.plot(df3[1200:])"
   ]
  },
  {
   "cell_type": "code",
   "execution_count": null,
   "id": "99f98448",
   "metadata": {},
   "outputs": [],
   "source": [
    "df3=scaler.inverse_transform(df3).tolist()"
   ]
  },
  {
   "cell_type": "code",
   "execution_count": null,
   "id": "f02f42e8",
   "metadata": {},
   "outputs": [],
   "source": [
    "plt.plot(df3)"
   ]
  }
 ],
 "metadata": {
  "kernelspec": {
   "display_name": "Python 3 (ipykernel)",
   "language": "python",
   "name": "python3"
  },
  "language_info": {
   "codemirror_mode": {
    "name": "ipython",
    "version": 3
   },
   "file_extension": ".py",
   "mimetype": "text/x-python",
   "name": "python",
   "nbconvert_exporter": "python",
   "pygments_lexer": "ipython3",
   "version": "3.9.7"
  }
 },
 "nbformat": 4,
 "nbformat_minor": 5
}
